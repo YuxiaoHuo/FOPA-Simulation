{
 "cells": [
  {
   "cell_type": "code",
   "execution_count": 37,
   "metadata": {},
   "outputs": [
    {
     "data": {
      "text/html": [
       "<style>.container {width:95% !important;}</style>"
      ],
      "text/plain": [
       "<IPython.core.display.HTML object>"
      ]
     },
     "metadata": {},
     "output_type": "display_data"
    },
    {
     "name": "stdout",
     "output_type": "stream",
     "text": [
      "The autoreload extension is already loaded. To reload it, use:\n",
      "  %reload_ext autoreload\n"
     ]
    }
   ],
   "source": [
    "from IPython.core.display import display, HTML\n",
    "display(HTML(\"<style>.container {width:95% !important;}</style>\"))\n",
    "\n",
    "%load_ext autoreload\n",
    "%autoreload 2\n",
    "\n",
    "import WaitingUtils as wu\n",
    "import pandas as pd\n",
    "from collections import Counter\n",
    "import matplotlib as plt\n",
    "import numpy as np\n",
    "\n",
    "%matplotlib inline"
   ]
  },
  {
   "cell_type": "code",
   "execution_count": 38,
   "metadata": {},
   "outputs": [],
   "source": [
    "average_arrival_time = 3.75\n",
    "average_service_time = 3\n",
    "time_period = 1\n"
   ]
  },
  {
   "cell_type": "markdown",
   "metadata": {},
   "source": [
    "## Draw inter-Arrival Time\n",
    "We expect the histogram to show a Poisson distribution with average arrival time "
   ]
  },
  {
   "cell_type": "code",
   "execution_count": 39,
   "metadata": {},
   "outputs": [
    {
     "name": "stdout",
     "output_type": "stream",
     "text": [
      "Help on function draw_inter_arrival_time in module WaitingUtils:\n",
      "\n",
      "draw_inter_arrival_time(average_arrival_time, time_period)\n",
      "    # next arrival time after this arrived (time between) 【when will next customer come after this one】\n",
      "\n"
     ]
    }
   ],
   "source": [
    "help(wu.draw_inter_arrival_time)"
   ]
  },
  {
   "cell_type": "code",
   "execution_count": 40,
   "metadata": {},
   "outputs": [
    {
     "data": {
      "text/plain": [
       "<matplotlib.axes._subplots.AxesSubplot at 0x11a4238d0>"
      ]
     },
     "execution_count": 40,
     "metadata": {},
     "output_type": "execute_result"
    },
    {
     "data": {
      "image/png": "[encoded data removed]",
      "text/plain": [
       "<Figure size 432x288 with 1 Axes>"
      ]
     },
     "metadata": {
      "needs_background": "light"
     },
     "output_type": "display_data"
    }
   ],
   "source": [
    "no_of_trials = 10\n",
    "def try_out_inter_arrival_time(trials):\n",
    "    values = []\n",
    "    for i in range(trials):\n",
    "        draw = wu.draw_inter_arrival_time(average_arrival_time, time_period)\n",
    "        values.append(draw)\n",
    "    return values\n",
    "\n",
    "simulated_inter_arrival_time = try_out_inter_arrival_time(no_of_trials)\n",
    "\n",
    "simulated_inter_arrival_time_data_frame = pd.DataFrame(simulated_inter_arrival_time, columns=['coll'])\n",
    "simulated_inter_arrival_time_data_frame.coll.plot.hist(grid=False, bins=20, color='green', zorder=2, rwidth=0.9)\n",
    "        \n",
    "        "
   ]
  },
  {
   "cell_type": "markdown",
   "metadata": {},
   "source": [
    "## Draw service time\n",
    "We expect the histogram to show a exponential distribution with average service time\n",
    "\n"
   ]
  },
  {
   "cell_type": "code",
   "execution_count": 41,
   "metadata": {},
   "outputs": [
    {
     "name": "stdout",
     "output_type": "stream",
     "text": [
      "Help on function draw_service_time in module WaitingUtils:\n",
      "\n",
      "draw_service_time(average_service_time, time_period)\n",
      "    # time duration that customer being serviced\n",
      "\n"
     ]
    }
   ],
   "source": [
    "help(wu.draw_service_time)"
   ]
  },
  {
   "cell_type": "code",
   "execution_count": 42,
   "metadata": {},
   "outputs": [
    {
     "data": {
      "text/plain": [
       "<matplotlib.axes._subplots.AxesSubplot at 0x11a56a240>"
      ]
     },
     "execution_count": 42,
     "metadata": {},
     "output_type": "execute_result"
    },
    {
     "data": {
      "image/png": "[encoded data removed]",
      "text/plain": [
       "<Figure size 432x288 with 1 Axes>"
      ]
     },
     "metadata": {
      "needs_background": "light"
     },
     "output_type": "display_data"
    }
   ],
   "source": [
    "no_of_trials = 10\n",
    "def try_out_service_time(trials):\n",
    "    values = []\n",
    "    for i in range(trials):\n",
    "        draw = wu.draw_service_time(average_service_time, time_period)\n",
    "        values.append(draw)\n",
    "    return values\n",
    "\n",
    "simulated_service_time = try_out_inter_arrival_time(no_of_trials)\n",
    "\n",
    "simulated_service_time_data_frame = pd.DataFrame(simulated_service_time, columns=['coll'])\n",
    "simulated_service_time_data_frame.coll.plot.hist(grid=False, bins=20, color='green', zorder=2, rwidth=0.9)\n",
    "        \n",
    "        "
   ]
  },
  {
   "cell_type": "markdown",
   "metadata": {},
   "source": [
    "## Calculate Arrival Time"
   ]
  },
  {
   "cell_type": "code",
   "execution_count": 43,
   "metadata": {},
   "outputs": [
    {
     "name": "stdout",
     "output_type": "stream",
     "text": [
      "Help on function calculate_arrival_time in module WaitingUtils:\n",
      "\n",
      "calculate_arrival_time(previous_arrival_time, inter_arrival_time)\n",
      "    # last arrival time + inter arrival time\n",
      "\n"
     ]
    }
   ],
   "source": [
    "help(wu.calculate_arrival_time)"
   ]
  },
  {
   "cell_type": "code",
   "execution_count": 44,
   "metadata": {},
   "outputs": [
    {
     "name": "stdout",
     "output_type": "stream",
     "text": [
      "3.75\n"
     ]
    }
   ],
   "source": [
    "previous_arrival_time = 0\n",
    "inter_arrival_time = 3.75\n",
    "print('{:,.2f}'.format(wu.calculate_arrival_time(previous_arrival_time, inter_arrival_time)))\n",
    "\n"
   ]
  },
  {
   "cell_type": "markdown",
   "metadata": {},
   "source": [
    "## Calculate Service Start Time Single"
   ]
  },
  {
   "cell_type": "code",
   "execution_count": 45,
   "metadata": {},
   "outputs": [
    {
     "name": "stdout",
     "output_type": "stream",
     "text": [
      "Help on function calculate_service_start_time_single in module WaitingUtils:\n",
      "\n",
      "calculate_service_start_time_single(agent_available_time, arrival_time)\n",
      "    # service start depends on， agent available and and customer arrival time, which comes later\n",
      "\n"
     ]
    }
   ],
   "source": [
    "help(wu.calculate_service_start_time_single)"
   ]
  },
  {
   "cell_type": "code",
   "execution_count": 46,
   "metadata": {},
   "outputs": [
    {
     "name": "stdout",
     "output_type": "stream",
     "text": [
      "3.75\n"
     ]
    }
   ],
   "source": [
    "agent_available_time = 0\n",
    "arrival_time = 3.75\n",
    "print('{:,.2f}'.format(wu.calculate_service_start_time_single(agent_available_time, arrival_time)))\n",
    "\n"
   ]
  },
  {
   "cell_type": "markdown",
   "metadata": {},
   "source": [
    "## Calculate Service Start Time Double"
   ]
  },
  {
   "cell_type": "code",
   "execution_count": 47,
   "metadata": {},
   "outputs": [
    {
     "name": "stdout",
     "output_type": "stream",
     "text": [
      "Help on function calculate_service_start_time_double in module WaitingUtils:\n",
      "\n",
      "calculate_service_start_time_double(agent_one_available, agent_two_available, arrival_time)\n",
      "    # first see which agent is available, and see when does customer come\n",
      "\n"
     ]
    }
   ],
   "source": [
    "help(wu.calculate_service_start_time_double)"
   ]
  },
  {
   "cell_type": "code",
   "execution_count": 48,
   "metadata": {},
   "outputs": [
    {
     "name": "stdout",
     "output_type": "stream",
     "text": [
      "3.75\n"
     ]
    }
   ],
   "source": [
    "agent_one_available = 3\n",
    "agent_two_available = 0\n",
    "arrival_time = 3.75\n",
    "print('{:,.2f}'.format(wu.calculate_service_start_time_double(agent_one_available, agent_two_available, arrival_time)))\n"
   ]
  },
  {
   "cell_type": "markdown",
   "metadata": {},
   "source": [
    "## Calculate Service Start Time Triple"
   ]
  },
  {
   "cell_type": "code",
   "execution_count": 49,
   "metadata": {},
   "outputs": [
    {
     "name": "stdout",
     "output_type": "stream",
     "text": [
      "Help on function calculate_service_start_time_triple in module WaitingUtils:\n",
      "\n",
      "calculate_service_start_time_triple(agent_tri_one_available, agent_tri_two_available, agent_tri_three_available, arrival_time)\n",
      "\n"
     ]
    }
   ],
   "source": [
    "help(wu.calculate_service_start_time_triple)"
   ]
  },
  {
   "cell_type": "code",
   "execution_count": 50,
   "metadata": {},
   "outputs": [
    {
     "name": "stdout",
     "output_type": "stream",
     "text": [
      "3.75\n"
     ]
    }
   ],
   "source": [
    "agent_tri_one_available = 3\n",
    "agent_tri_two_available = 5\n",
    "agent_tri_three_available = 0\n",
    "arrival_time = 3.75\n",
    "print('{:,.2f}'.format(wu.calculate_service_start_time_triple(agent_tri_one_available, agent_tri_two_available, agent_tri_three_available, arrival_time)))\n"
   ]
  },
  {
   "cell_type": "markdown",
   "metadata": {},
   "source": [
    "## Calculate Waiting Time"
   ]
  },
  {
   "cell_type": "code",
   "execution_count": 51,
   "metadata": {},
   "outputs": [
    {
     "name": "stdout",
     "output_type": "stream",
     "text": [
      "Help on function calculate_waiting_time in module WaitingUtils:\n",
      "\n",
      "calculate_waiting_time(arrival_time, service_start_time)\n",
      "    # waiting time in line\n",
      "\n"
     ]
    }
   ],
   "source": [
    "help(wu.calculate_waiting_time)"
   ]
  },
  {
   "cell_type": "code",
   "execution_count": 52,
   "metadata": {},
   "outputs": [
    {
     "name": "stdout",
     "output_type": "stream",
     "text": [
      "0.00\n"
     ]
    }
   ],
   "source": [
    "service_start_time = 3.75\n",
    "print('{:,.2f}'.format(wu.calculate_waiting_time(arrival_time, service_start_time)))\n"
   ]
  },
  {
   "cell_type": "markdown",
   "metadata": {},
   "source": [
    "## Calculate Completion Time"
   ]
  },
  {
   "cell_type": "code",
   "execution_count": 53,
   "metadata": {},
   "outputs": [
    {
     "name": "stdout",
     "output_type": "stream",
     "text": [
      "Help on function calculate_completion_time in module WaitingUtils:\n",
      "\n",
      "calculate_completion_time(service_start_time, service_time)\n",
      "    # call finish time\n",
      "\n"
     ]
    }
   ],
   "source": [
    "help(wu.calculate_completion_time)"
   ]
  },
  {
   "cell_type": "code",
   "execution_count": 54,
   "metadata": {},
   "outputs": [
    {
     "name": "stdout",
     "output_type": "stream",
     "text": [
      "6.75\n"
     ]
    }
   ],
   "source": [
    "service_time = 3\n",
    "print('{:,.2f}'.format(wu.calculate_completion_time(service_start_time, service_time)))"
   ]
  },
  {
   "cell_type": "markdown",
   "metadata": {},
   "source": [
    "## Calculate Time in System"
   ]
  },
  {
   "cell_type": "code",
   "execution_count": 55,
   "metadata": {},
   "outputs": [
    {
     "name": "stdout",
     "output_type": "stream",
     "text": [
      "Help on function calculate_time_in_system in module WaitingUtils:\n",
      "\n",
      "calculate_time_in_system(completion_time, arrival_time)\n",
      "    # how long does it take from call start to finish\n",
      "\n"
     ]
    }
   ],
   "source": [
    "help(wu.calculate_time_in_system)"
   ]
  },
  {
   "cell_type": "code",
   "execution_count": 56,
   "metadata": {},
   "outputs": [
    {
     "name": "stdout",
     "output_type": "stream",
     "text": [
      "3.00\n"
     ]
    }
   ],
   "source": [
    "completion_time = 6.75\n",
    "print('{:,.2f}'.format(wu.calculate_time_in_system(completion_time, arrival_time)))"
   ]
  },
  {
   "cell_type": "markdown",
   "metadata": {},
   "source": [
    "## Calculate When Agent Available (Single Model)"
   ]
  },
  {
   "cell_type": "code",
   "execution_count": 57,
   "metadata": {},
   "outputs": [
    {
     "name": "stdout",
     "output_type": "stream",
     "text": [
      "Help on function calculate_when_agent_available in module WaitingUtils:\n",
      "\n",
      "calculate_when_agent_available(completion_time)\n",
      "    # in single model，when does agent being available\n",
      "\n"
     ]
    }
   ],
   "source": [
    "help(wu.calculate_when_agent_available)"
   ]
  },
  {
   "cell_type": "code",
   "execution_count": 58,
   "metadata": {},
   "outputs": [
    {
     "name": "stdout",
     "output_type": "stream",
     "text": [
      "6.75\n"
     ]
    }
   ],
   "source": [
    "completion_time = 6.75\n",
    "print('{:,.2f}'.format(wu.calculate_when_agent_available(completion_time)))"
   ]
  },
  {
   "cell_type": "markdown",
   "metadata": {},
   "source": [
    "## Calculate When Agent One Available (Double Model)"
   ]
  },
  {
   "cell_type": "code",
   "execution_count": 59,
   "metadata": {},
   "outputs": [
    {
     "name": "stdout",
     "output_type": "stream",
     "text": [
      "Help on function calculate_when_agent_one_available in module WaitingUtils:\n",
      "\n",
      "calculate_when_agent_one_available(previous_agent_one_available, previous_agent_two_available, completion_time)\n",
      "    # in double model，when does agent 1 being available\n",
      "\n"
     ]
    }
   ],
   "source": [
    "help(wu.calculate_when_agent_one_available)"
   ]
  },
  {
   "cell_type": "code",
   "execution_count": 60,
   "metadata": {},
   "outputs": [
    {
     "name": "stdout",
     "output_type": "stream",
     "text": [
      "6.75\n"
     ]
    }
   ],
   "source": [
    "previous_agent_one_available = 3\n",
    "previous_agent_two_available = 6.75\n",
    "print('{:,.2f}'.format(wu.calculate_when_agent_one_available(previous_agent_one_available, previous_agent_two_available,completion_time)))\n",
    "\n"
   ]
  },
  {
   "cell_type": "markdown",
   "metadata": {},
   "source": [
    "## Calculate When Agent Two Available (Double Model)"
   ]
  },
  {
   "cell_type": "code",
   "execution_count": 61,
   "metadata": {},
   "outputs": [
    {
     "name": "stdout",
     "output_type": "stream",
     "text": [
      "Help on function calculate_when_agent_two_available in module WaitingUtils:\n",
      "\n",
      "calculate_when_agent_two_available(previous_agent_one_available, previous_agent_two_available, completion_time)\n",
      "    # in double model, when does agent 2 being available\n",
      "\n"
     ]
    }
   ],
   "source": [
    "help(wu.calculate_when_agent_two_available)"
   ]
  },
  {
   "cell_type": "code",
   "execution_count": 62,
   "metadata": {},
   "outputs": [
    {
     "name": "stdout",
     "output_type": "stream",
     "text": [
      "6.75\n"
     ]
    }
   ],
   "source": [
    "previous_agent_one_available = 3\n",
    "previous_agent_two_available = 6.75\n",
    "print('{:,.2f}'.format(wu.calculate_when_agent_two_available(previous_agent_one_available, previous_agent_two_available,completion_time)))\n"
   ]
  },
  {
   "cell_type": "markdown",
   "metadata": {},
   "source": [
    "## Calculate When Agent Tri-One Available (Triple Model)"
   ]
  },
  {
   "cell_type": "code",
   "execution_count": 63,
   "metadata": {},
   "outputs": [
    {
     "name": "stdout",
     "output_type": "stream",
     "text": [
      "Help on function calculate_when_agent_tri_one_available in module WaitingUtils:\n",
      "\n",
      "calculate_when_agent_tri_one_available(previous_agent_tri_one_available, previous_agent_tri_two_available, previous_agent_tri_three_available, completion_time)\n",
      "    # in triple model，when does agent 1 being available\n",
      "\n"
     ]
    }
   ],
   "source": [
    "help(wu.calculate_when_agent_tri_one_available)"
   ]
  },
  {
   "cell_type": "code",
   "execution_count": 64,
   "metadata": {},
   "outputs": [
    {
     "name": "stdout",
     "output_type": "stream",
     "text": [
      "3.00\n"
     ]
    }
   ],
   "source": [
    "previous_agent_tri_one_available = 3\n",
    "previous_agent_tri_two_available = 6.75\n",
    "previous_agent_tri_three_available = 0\n",
    "print('{:,.2f}'.format(wu.calculate_when_agent_tri_one_available(previous_agent_tri_one_available, \n",
    "                                                                previous_agent_tri_two_available,\n",
    "                                                                previous_agent_tri_three_available,\n",
    "                                                                completion_time)))\n"
   ]
  },
  {
   "cell_type": "markdown",
   "metadata": {},
   "source": [
    "## Calculate When Agent Tri-Two Available (Triple Model)"
   ]
  },
  {
   "cell_type": "code",
   "execution_count": 65,
   "metadata": {},
   "outputs": [
    {
     "name": "stdout",
     "output_type": "stream",
     "text": [
      "Help on function calculate_when_agent_tri_two_available in module WaitingUtils:\n",
      "\n",
      "calculate_when_agent_tri_two_available(previous_agent_tri_one_available, previous_agent_tri_two_available, previous_agent_tri_three_available, completion_time)\n",
      "    # in triple model，when does agent 2 being available\n",
      "\n"
     ]
    }
   ],
   "source": [
    "help(wu.calculate_when_agent_tri_two_available)"
   ]
  },
  {
   "cell_type": "code",
   "execution_count": 66,
   "metadata": {},
   "outputs": [
    {
     "name": "stdout",
     "output_type": "stream",
     "text": [
      "6.75\n"
     ]
    }
   ],
   "source": [
    "previous_agent_tri_one_available = 3\n",
    "previous_agent_tri_two_available = 6.75\n",
    "previous_agent_tri_three_available = 0\n",
    "print('{:,.2f}'.format(wu.calculate_when_agent_tri_two_available(previous_agent_tri_one_available, \n",
    "                                                                previous_agent_tri_two_available,\n",
    "                                                                previous_agent_tri_three_available,\n",
    "                                                                completion_time)))"
   ]
  },
  {
   "cell_type": "markdown",
   "metadata": {},
   "source": [
    "## Calculate When Agent Tri-Three Available (Triple Model)"
   ]
  },
  {
   "cell_type": "code",
   "execution_count": 67,
   "metadata": {},
   "outputs": [
    {
     "name": "stdout",
     "output_type": "stream",
     "text": [
      "Help on function calculate_when_agent_tri_three_available in module WaitingUtils:\n",
      "\n",
      "calculate_when_agent_tri_three_available(previous_agent_tri_one_available, previous_agent_tri_two_available, previous_agent_tri_three_available, completion_time)\n",
      "    # in triple model，when does agent 3 being available\n",
      "\n"
     ]
    }
   ],
   "source": [
    "help(wu.calculate_when_agent_tri_three_available)"
   ]
  },
  {
   "cell_type": "code",
   "execution_count": 68,
   "metadata": {},
   "outputs": [
    {
     "name": "stdout",
     "output_type": "stream",
     "text": [
      "6.75\n"
     ]
    }
   ],
   "source": [
    "previous_agent_tri_one_available = 3\n",
    "previous_agent_tri_two_available = 6.75\n",
    "previous_agent_tri_three_available = 0\n",
    "print('{:,.2f}'.format(wu.calculate_when_agent_tri_three_available(previous_agent_tri_one_available, \n",
    "                                                                previous_agent_tri_two_available,\n",
    "                                                                previous_agent_tri_three_available,\n",
    "                                                                completion_time)))"
   ]
  },
  {
   "cell_type": "markdown",
   "metadata": {},
   "source": [
    "## Run Simulation Single \n",
    "Simulates 10 output instances. Simlated output should be reasonable given the base, best, and worst case with one agent "
   ]
  },
  {
   "cell_type": "code",
   "execution_count": 69,
   "metadata": {},
   "outputs": [
    {
     "name": "stdout",
     "output_type": "stream",
     "text": [
      "{0: ['inter_arrival_time', 'arrival_time', 'service_start_time', 'waiting_time', 'service_time', 'completion_time', 'time_in_system', 'agent_available_time'], 5: [0.1746340840691997, 28.443076421079926, 31.827504874113227, 3.3844284530333013, 3.065258625843025, 34.89276349995625, 6.449687078876327, 34.89276349995625], 6: [0.0410247467900681, 28.484101167869994, 34.89276349995625, 6.408662332086259, 0.9567843574354832, 35.849547857391734, 7.36544668952174, 35.849547857391734], 7: [12.0350022892802, 40.519103457150194, 40.519103457150194, 0.0, 3.8323048908421646, 44.35140834799236, 3.832304890842167, 44.35140834799236], 8: [10.50627804686276, 51.025381504012955, 51.025381504012955, 0.0, 1.218270926355287, 52.24365243036824, 1.218270926355288, 52.24365243036824], 9: [7.338903435107041, 58.36428493912, 58.36428493912, 0.0, 0.10311372538109764, 58.4673986645011, 0.10311372538109964, 58.4673986645011]}\n"
     ]
    }
   ],
   "source": [
    "time_period = 1\n",
    "number_of_customer_simulated = 10\n",
    "warm_up_phase_duration = 5\n",
    "print(wu.run_simulation_single(average_arrival_time, average_service_time, \n",
    "                              time_period, number_of_customer_simulated,\n",
    "                              warm_up_phase_duration, agent_start_time = 0))"
   ]
  },
  {
   "cell_type": "markdown",
   "metadata": {},
   "source": [
    "## Run Simulation Double\n",
    "Simulates 10 output instances. Simlated output should be reasonable given the base, best, and worst case with double agents (two agents)"
   ]
  },
  {
   "cell_type": "code",
   "execution_count": 70,
   "metadata": {},
   "outputs": [
    {
     "name": "stdout",
     "output_type": "stream",
     "text": [
      "{0: ['inter_arrival_time', 'arrival_time', 'service_start_time', 'waiting_time', 'service_time', 'completion_time', 'time_in_system', 'agent_one_available', 'agent_two_available'], 5: [5.62846335838603, 22.913810637555706, 22.913810637555706, 0.0, 0.4737773202666047, 23.387587957822312, 0.47377732026660624, 23.387587957822312, 21.76582308840748], 6: [7.643511883973248, 30.557322521528953, 30.557322521528953, 0.0, 7.720433705227625, 38.27775622675658, 7.720433705227627, 23.387587957822312, 38.27775622675658], 7: [6.055815272579582, 36.61313779410853, 36.61313779410853, 0.0, 4.640185455606183, 41.25332324971471, 4.640185455606179, 41.25332324971471, 38.27775622675658], 8: [2.0120481063390443, 38.625185900447576, 38.625185900447576, 0.0, 1.2195579457342787, 39.844743846181856, 1.2195579457342802, 41.25332324971471, 39.844743846181856], 9: [9.854714262132031, 48.47990016257961, 48.47990016257961, 0.0, 1.8949574467632928, 50.374857609342904, 1.8949574467632928, 41.25332324971471, 50.374857609342904]}\n"
     ]
    }
   ],
   "source": [
    "time_period = 1\n",
    "number_of_customer_simulated = 10\n",
    "warm_up_phase_duration = 5\n",
    "print(wu.run_simulation_double(average_arrival_time,average_service_time,time_period, \n",
    "                                number_of_customer_simulated,warm_up_phase_duration,\n",
    "                                agent_two_start_time = 0))"
   ]
  },
  {
   "cell_type": "markdown",
   "metadata": {},
   "source": [
    "## Run Simulation Triple\n",
    "Simulates 10 output instances. Simlated output should be reasonable given the base, best, and worst case with triple agents (three agents)\n"
   ]
  },
  {
   "cell_type": "code",
   "execution_count": 71,
   "metadata": {},
   "outputs": [
    {
     "name": "stdout",
     "output_type": "stream",
     "text": [
      "{0: ['inter_arrival_time', 'arrival_time', 'service_start_time', 'waiting_time', 'service_time', 'completion_time', 'time_in_system', 'agent_tri_one_available', 'agent_tri_two_available', 'agent_tri_three_available'], 5: [2.2880540626810446, 6.331259203883622, 6.331259203883622, 0.0, 0.5309104353557432, 6.862169639239365, 0.530910435355743, 6.3476479427758274, 8.026667229881877, 6.862169639239365], 6: [5.790824966080465, 12.122084169964086, 12.122084169964086, 0.0, 0.049567565239545607, 12.171651735203632, 0.04956756523954553, 12.171651735203632, 8.026667229881877, 6.862169639239365], 7: [1.2771852598139537, 13.399269429778041, 13.399269429778041, 0.0, 2.498141016954099, 15.89741044673214, 2.498141016954099, 12.171651735203632, 8.026667229881877, 15.89741044673214], 8: [9.077142221344259, 22.476411651122298, 22.476411651122298, 0.0, 0.8611656034584001, 23.337577254580697, 0.8611656034583994, 12.171651735203632, 23.337577254580697, 15.89741044673214], 9: [0.8358808240502819, 23.31229247517258, 23.31229247517258, 0.0, 8.333345056968138, 31.645637532140718, 8.333345056968138, 31.645637532140718, 23.337577254580697, 15.89741044673214]}\n"
     ]
    }
   ],
   "source": [
    "time_period = 1\n",
    "number_of_customer_simulated = 10\n",
    "warm_up_phase_duration = 5\n",
    "print(wu.run_simulation_triple(average_arrival_time, \n",
    "                            average_service_time, \n",
    "                            time_period, \n",
    "                            number_of_customer_simulated,\n",
    "                            warm_up_phase_duration,\n",
    "                            agent_tri_three_start_time = 0))"
   ]
  },
  {
   "cell_type": "code",
   "execution_count": null,
   "metadata": {},
   "outputs": [],
   "source": []
  },
  {
   "cell_type": "code",
   "execution_count": null,
   "metadata": {},
   "outputs": [],
   "source": []
  }
 ],
 "metadata": {
  "kernelspec": {
   "display_name": "Python 3",
   "language": "python",
   "name": "python3"
  },
  "language_info": {
   "codemirror_mode": {
    "name": "ipython",
    "version": 3
   },
   "file_extension": ".py",
   "mimetype": "text/x-python",
   "name": "python",
   "nbconvert_exporter": "python",
   "pygments_lexer": "ipython3",
   "version": "3.7.3"
  }
 },
 "nbformat": 4,
 "nbformat_minor": 2
}
