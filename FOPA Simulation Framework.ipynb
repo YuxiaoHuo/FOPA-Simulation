{
 "cells": [
  {
   "cell_type": "markdown",
   "metadata": {},
   "source": [
    "# FOPA Simulation Framework"
   ]
  },
  {
   "cell_type": "markdown",
   "metadata": {},
   "source": [
    "## To do before you start\n",
    "Welcome to the FOPA Simulation Framework <br>\n",
    "Execute the next cell to ensure nice notebook formatting and to load the necessary libraries: <br>\n",
    "\n",
    " - waitingUtils: contains all needed FOPA waiting line specific simulation functionality\n",
    " - Counter from Collections: Enables bucketing needed to analyze the simulation output\n",
    " - Matplotlib: enables plotting results\n",
    " - Numpy: enables scientific computing\n",
    " - Pandas: enables data slicing and dicing"
   ]
  },
  {
   "cell_type": "code",
   "execution_count": 36,
   "metadata": {},
   "outputs": [
    {
     "data": {
      "text/html": [
       "<style>.container {width:95% !important;}</style>"
      ],
      "text/plain": [
       "<IPython.core.display.HTML object>"
      ]
     },
     "metadata": {},
     "output_type": "display_data"
    },
    {
     "name": "stdout",
     "output_type": "stream",
     "text": [
      "The autoreload extension is already loaded. To reload it, use:\n",
      "  %reload_ext autoreload\n"
     ]
    }
   ],
   "source": [
    "from IPython.core.display import display, HTML\n",
    "display(HTML(\"<style>.container {width:95% !important;}</style>\"))\n",
    "%load_ext autoreload\n",
    "%autoreload 2\n",
    "\n",
    "import WaitingUtils as wu\n",
    "import pandas as pd\n",
    "from collections import Counter\n",
    "import matplotlib as plt\n",
    "import numpy as np"
   ]
  },
  {
   "cell_type": "markdown",
   "metadata": {},
   "source": [
    "## Context and Documentation\n",
    "The BOPA waiting line simulation framework simulates arrival and service times and keeps track of the current state of the system. <br>\n",
    "The framework keeps track of the state of the system at every arrival event. <br>\n",
    "To be more precise, for every arrival (event), the framework will generate, calculate, and log: <br>\n",
    " - Draw the inter arrival time (the time between this and the previous arrival).\n",
    " - Calculate the actual arrival time (assuming that the process starts at $t=0$.\n",
    " - Calculate the service start time. I.e., the time that the service starts. This does not equal the arrival time if all service providers are occupied at arrival time (and the waiting room is occupied).\n",
    " - Calculate the waiting time.\n",
    " - Draw the service time.\n",
    " - Calculate the completion time.\n",
    " - Calculate the time spent in the system.\n",
    " - Calculate the time agent is available.\n",
    " \n",
    "The analysis will ignore the first (configurable) number of simulations in order to exclude the warm-up dynamics of the system from the analysis. For the remaning number of simulations the attribute values defined above enable calculating parameters such as :\n",
    " \n",
    " - Total number of customer waiting.\n",
    " - Probability of waiting.\n",
    " - Average waiting time.\n",
    " - Maximum waiting time.\n",
    " - Quality server utilization.\n",
    " - Total waiting time.\n",
    " - Total simulation time.\n",
    " - Average number of customers in the queue.\n",
    " "
   ]
  },
  {
   "cell_type": "markdown",
   "metadata": {},
   "source": [
    "# Single Agent Model"
   ]
  },
  {
   "cell_type": "markdown",
   "metadata": {},
   "source": [
    "### Simulation Configuration Settings\n",
    "The next cell enables you to set all relevant simulation configuration parameters <br>\n",
    "The base case for this simulation is given below\n",
    " - Average (poisson) interarrival time: 3.75 (minutes)\n",
    " - Average (exponential) service time: 3 (minutes)\n",
    " - Time period: 1 (minute)\n",
    " - Number of customers (simulations): 1,000\n",
    " - Warm up phase duration (in units of number of simulations): 100\n"
   ]
  },
  {
   "cell_type": "code",
   "execution_count": 37,
   "metadata": {},
   "outputs": [],
   "source": [
    "average_arrival_time = 3.75\n",
    "average_service_time = 3\n",
    "number_of_customer_simulated = 1000\n",
    "warm_up_phase_duration = 100\n",
    "agent_availability_time = 0\n",
    "time_period = 1.0\n"
   ]
  },
  {
   "cell_type": "markdown",
   "metadata": {},
   "source": [
    "### Running a Simulation \n",
    "In the cell below we pass all the required parameters into the run_simulation_single method which stages and runs the entire simulation and outputs all the simulated profits in a Python dictionary. This dictionary is wrapped into a Pandas Series object and transposed (switch columns and rows). The column headers, which reside on the first row, are assigned to be Dataframe headers. Finally, the first row, that contains the headers, is not displayed.<br>\n",
    "The first 100 simulation instances after the warm up period ends are displayed."
   ]
  },
  {
   "cell_type": "code",
   "execution_count": 38,
   "metadata": {},
   "outputs": [
    {
     "data": {
      "text/html": [
       "<div>\n",
       "<style scoped>\n",
       "    .dataframe tbody tr th:only-of-type {\n",
       "        vertical-align: middle;\n",
       "    }\n",
       "\n",
       "    .dataframe tbody tr th {\n",
       "        vertical-align: top;\n",
       "    }\n",
       "\n",
       "    .dataframe thead th {\n",
       "        text-align: right;\n",
       "    }\n",
       "</style>\n",
       "<table border=\"1\" class=\"dataframe\">\n",
       "  <thead>\n",
       "    <tr style=\"text-align: right;\">\n",
       "      <th></th>\n",
       "      <th>inter_arrival_time</th>\n",
       "      <th>arrival_time</th>\n",
       "      <th>service_start_time</th>\n",
       "      <th>waiting_time</th>\n",
       "      <th>service_time</th>\n",
       "      <th>completion_time</th>\n",
       "      <th>time_in_system</th>\n",
       "      <th>agent_available_time</th>\n",
       "    </tr>\n",
       "  </thead>\n",
       "  <tbody>\n",
       "    <tr>\n",
       "      <th>100</th>\n",
       "      <td>2.00631</td>\n",
       "      <td>383.685</td>\n",
       "      <td>389.722</td>\n",
       "      <td>6.03675</td>\n",
       "      <td>4.21998</td>\n",
       "      <td>393.942</td>\n",
       "      <td>10.2567</td>\n",
       "      <td>393.942</td>\n",
       "    </tr>\n",
       "    <tr>\n",
       "      <th>101</th>\n",
       "      <td>0.0377006</td>\n",
       "      <td>383.723</td>\n",
       "      <td>393.942</td>\n",
       "      <td>10.219</td>\n",
       "      <td>3.98671</td>\n",
       "      <td>397.929</td>\n",
       "      <td>14.2057</td>\n",
       "      <td>397.929</td>\n",
       "    </tr>\n",
       "    <tr>\n",
       "      <th>102</th>\n",
       "      <td>5.03751</td>\n",
       "      <td>388.761</td>\n",
       "      <td>397.929</td>\n",
       "      <td>9.16823</td>\n",
       "      <td>0.693382</td>\n",
       "      <td>398.622</td>\n",
       "      <td>9.86161</td>\n",
       "      <td>398.622</td>\n",
       "    </tr>\n",
       "    <tr>\n",
       "      <th>103</th>\n",
       "      <td>2.86894</td>\n",
       "      <td>391.629</td>\n",
       "      <td>398.622</td>\n",
       "      <td>6.99267</td>\n",
       "      <td>3.29447</td>\n",
       "      <td>401.917</td>\n",
       "      <td>10.2871</td>\n",
       "      <td>401.917</td>\n",
       "    </tr>\n",
       "    <tr>\n",
       "      <th>104</th>\n",
       "      <td>2.16377</td>\n",
       "      <td>393.793</td>\n",
       "      <td>401.917</td>\n",
       "      <td>8.12337</td>\n",
       "      <td>2.06718</td>\n",
       "      <td>403.984</td>\n",
       "      <td>10.1905</td>\n",
       "      <td>403.984</td>\n",
       "    </tr>\n",
       "  </tbody>\n",
       "</table>\n",
       "</div>"
      ],
      "text/plain": [
       "0   inter_arrival_time arrival_time service_start_time waiting_time  \\\n",
       "100            2.00631      383.685            389.722      6.03675   \n",
       "101          0.0377006      383.723            393.942       10.219   \n",
       "102            5.03751      388.761            397.929      9.16823   \n",
       "103            2.86894      391.629            398.622      6.99267   \n",
       "104            2.16377      393.793            401.917      8.12337   \n",
       "\n",
       "0   service_time completion_time time_in_system agent_available_time  \n",
       "100      4.21998         393.942        10.2567              393.942  \n",
       "101      3.98671         397.929        14.2057              397.929  \n",
       "102     0.693382         398.622        9.86161              398.622  \n",
       "103      3.29447         401.917        10.2871              401.917  \n",
       "104      2.06718         403.984        10.1905              403.984  "
      ]
     },
     "execution_count": 38,
     "metadata": {},
     "output_type": "execute_result"
    }
   ],
   "source": [
    "simulation_output_single = pd.DataFrame(wu.run_simulation_single(average_arrival_time, \n",
    "                                                        average_service_time, \n",
    "                                                        time_period, \n",
    "                                                        number_of_customer_simulated,\n",
    "                                                        warm_up_phase_duration,\n",
    "                                                        agent_start_time = 0)).T\n",
    "simulation_output_single.columns = simulation_output_single.iloc[0]\n",
    "simulation_output_single = simulation_output_single.iloc[1:]\n",
    "simulation_output_single.head()"
   ]
  },
  {
   "cell_type": "markdown",
   "metadata": {},
   "source": [
    "### Analyze and Display the Result"
   ]
  },
  {
   "cell_type": "code",
   "execution_count": 39,
   "metadata": {},
   "outputs": [],
   "source": [
    "# Calculate the probability that waiting time is longer than number_of_minutes\n",
    "def probability_of_waiting(waiting_times, number_of_minutes):\n",
    "    simulation_count = waiting_times.count()\n",
    "    wait_time_count = waiting_times[waiting_times>number_of_minutes].count()\n",
    "    probability_of_waiting = wait_time_count/simulation_count\n",
    "    return probability_of_waiting"
   ]
  },
  {
   "cell_type": "code",
   "execution_count": 40,
   "metadata": {},
   "outputs": [
    {
     "name": "stdout",
     "output_type": "stream",
     "text": [
      "The mean waiting time equals 21.86\n",
      "The max waiting time equals 92.88\n",
      "The total waiting time equals 19,675.30\n",
      "The total simulation duration equals 3,194.59\n",
      "The total service time equals 2,775.49\n",
      "The average number of customers in the queue equals 6.16\n",
      "The quality agent utilization equals 0.87\n",
      "The probability of having to wait equals 87.11%\n",
      "The probability of having to wait over one minute equals 83.22%\n"
     ]
    },
    {
     "data": {
      "text/plain": [
       "<matplotlib.axes._subplots.AxesSubplot at 0x12275a668>"
      ]
     },
     "execution_count": 40,
     "metadata": {},
     "output_type": "execute_result"
    },
    {
     "data": {
      "image/png": "[encoded data removed]",
      "text/plain": [
       "<Figure size 1080x360 with 1 Axes>"
      ]
     },
     "metadata": {
      "needs_background": "light"
     },
     "output_type": "display_data"
    }
   ],
   "source": [
    "# Find the waiting_times we just simulated, find their min and max\n",
    "waiting_times = simulation_output_single[\"waiting_time\"]\n",
    "waiting_time_mean = waiting_times.mean()\n",
    "waiting_time_max = waiting_times.max()\n",
    "\n",
    "# Calculate the sum of all the waiting time\n",
    "total_waiting_time = waiting_times.sum()\n",
    "\n",
    "# Calculate total time\n",
    "total_simulation_time = simulation_output_single[\"completion_time\"].iloc[-1] - simulation_output_single[\"completion_time\"].iloc[0]\n",
    "\n",
    "# Calculate total service time\n",
    "total_service_time = simulation_output_single[\"service_time\"].sum()\n",
    "\n",
    "# Calculate every's average waiting time\n",
    "average_in_queue = total_waiting_time / total_simulation_time\n",
    "\n",
    "# Calculate the utilization rage\n",
    "quality_agent_utilization = total_service_time/total_simulation_time\n",
    "\n",
    "# Number of cumtomer who waits longer than one minute\n",
    "number_of_customer_waiting_over_one_minute = simulation_output_single[\"waiting_time\"][simulation_output_single[\"waiting_time\"]>1].count()\n",
    "\n",
    "# Calculate the probability of customer waits\n",
    "waiting_probability = probability_of_waiting(waiting_times,0)\n",
    "\n",
    "# Calculate the probability of customer waits longer than 1 minute\n",
    "probability_of_waiting_over_one_minute = probability_of_waiting(waiting_times,1)\n",
    "\n",
    "print(\"The mean waiting time equals \" + '{:,.2f}'.format(waiting_time_mean))\n",
    "print(\"The max waiting time equals \" + '{:,.2f}'.format(waiting_time_max))\n",
    "print(\"The total waiting time equals \" + '{:,.2f}'.format(total_waiting_time))\n",
    "print(\"The total simulation duration equals \" + '{:,.2f}'.format(total_simulation_time))\n",
    "print(\"The total service time equals \" + '{:,.2f}'.format(total_service_time))\n",
    "print(\"The average number of customers in the queue equals \" + '{:,.2f}'.format(average_in_queue))\n",
    "print(\"The quality agent utilization equals \" + '{:,.2f}'.format(quality_agent_utilization))\n",
    "print(\"The probability of having to wait equals \" + \"{:.2%}\".format(waiting_probability))\n",
    "print(\"The probability of having to wait over one minute equals \" + \"{:.2%}\".format(probability_of_waiting_over_one_minute))\n",
    "simulation_output_single[\"waiting_time\"].plot.hist(grid = False, bins=30, color='green', zorder=2, rwidth=0.9, figsize=(15,5))\n",
    "\n"
   ]
  },
  {
   "cell_type": "markdown",
   "metadata": {},
   "source": [
    "<br><br><br>\n"
   ]
  },
  {
   "cell_type": "markdown",
   "metadata": {},
   "source": [
    "# Double Agents Model (2 agents)"
   ]
  },
  {
   "cell_type": "markdown",
   "metadata": {},
   "source": [
    "### Simulation Configuration Settings\n",
    "The next cell enables you to set all relevant simulation configuration parameters <br>\n",
    "The base case for this simulation is given below\n",
    " - Average (poisson) interarrival time: 3.75 (minutes)\n",
    " - Average (exponential) service time: 3 (minutes)\n",
    " - Time period: 1 (minute)\n",
    " - Number of customers (simulations): 1,000\n",
    " - Warm up phase duration (in units of number of simulations): 100\n",
    " - Agent two availability time = 0"
   ]
  },
  {
   "cell_type": "code",
   "execution_count": 41,
   "metadata": {},
   "outputs": [],
   "source": [
    "average_arrival_time = 3.75\n",
    "average_service_time = 3\n",
    "number_of_customer_simulated = 1000\n",
    "warm_up_phase_duration = 100\n",
    "agent_two_availability_time = 0 \n",
    "time_period = 1"
   ]
  },
  {
   "cell_type": "markdown",
   "metadata": {},
   "source": [
    "### Running a Simulation \n",
    "In the cell below we pass all the required parameters into the run_simulation_double method which stages and runs the entire simulation and outputs all the simulated profits in a Python dictionary. This dictionary is wrapped into a Pandas Series object and transposed (switch columns and rows). The column headers, which reside on the first row, are assigned to be Dataframe headers. Finally, the first row, that contains the headers, is not displayed.<br>\n",
    "The first 100 simulation instances after the warm up period ends are displayed."
   ]
  },
  {
   "cell_type": "code",
   "execution_count": 42,
   "metadata": {},
   "outputs": [
    {
     "data": {
      "text/html": [
       "<div>\n",
       "<style scoped>\n",
       "    .dataframe tbody tr th:only-of-type {\n",
       "        vertical-align: middle;\n",
       "    }\n",
       "\n",
       "    .dataframe tbody tr th {\n",
       "        vertical-align: top;\n",
       "    }\n",
       "\n",
       "    .dataframe thead th {\n",
       "        text-align: right;\n",
       "    }\n",
       "</style>\n",
       "<table border=\"1\" class=\"dataframe\">\n",
       "  <thead>\n",
       "    <tr style=\"text-align: right;\">\n",
       "      <th></th>\n",
       "      <th>inter_arrival_time</th>\n",
       "      <th>arrival_time</th>\n",
       "      <th>service_start_time</th>\n",
       "      <th>waiting_time</th>\n",
       "      <th>service_time</th>\n",
       "      <th>completion_time</th>\n",
       "      <th>time_in_system</th>\n",
       "      <th>agent_one_available</th>\n",
       "      <th>agent_two_available</th>\n",
       "    </tr>\n",
       "  </thead>\n",
       "  <tbody>\n",
       "    <tr>\n",
       "      <th>100</th>\n",
       "      <td>10.1196</td>\n",
       "      <td>432.691</td>\n",
       "      <td>432.691</td>\n",
       "      <td>0</td>\n",
       "      <td>1.83343</td>\n",
       "      <td>434.524</td>\n",
       "      <td>1.83343</td>\n",
       "      <td>423.879</td>\n",
       "      <td>434.524</td>\n",
       "    </tr>\n",
       "    <tr>\n",
       "      <th>101</th>\n",
       "      <td>0.522912</td>\n",
       "      <td>433.214</td>\n",
       "      <td>433.214</td>\n",
       "      <td>0</td>\n",
       "      <td>2.41246</td>\n",
       "      <td>435.626</td>\n",
       "      <td>2.41246</td>\n",
       "      <td>435.626</td>\n",
       "      <td>434.524</td>\n",
       "    </tr>\n",
       "    <tr>\n",
       "      <th>102</th>\n",
       "      <td>4.77905</td>\n",
       "      <td>437.993</td>\n",
       "      <td>437.993</td>\n",
       "      <td>0</td>\n",
       "      <td>2.2699</td>\n",
       "      <td>440.263</td>\n",
       "      <td>2.2699</td>\n",
       "      <td>435.626</td>\n",
       "      <td>440.263</td>\n",
       "    </tr>\n",
       "    <tr>\n",
       "      <th>103</th>\n",
       "      <td>0.0526582</td>\n",
       "      <td>438.045</td>\n",
       "      <td>438.045</td>\n",
       "      <td>0</td>\n",
       "      <td>7.6254</td>\n",
       "      <td>445.671</td>\n",
       "      <td>7.6254</td>\n",
       "      <td>445.671</td>\n",
       "      <td>440.263</td>\n",
       "    </tr>\n",
       "    <tr>\n",
       "      <th>104</th>\n",
       "      <td>2.84632</td>\n",
       "      <td>440.892</td>\n",
       "      <td>440.892</td>\n",
       "      <td>0</td>\n",
       "      <td>1.64543</td>\n",
       "      <td>442.537</td>\n",
       "      <td>1.64543</td>\n",
       "      <td>445.671</td>\n",
       "      <td>442.537</td>\n",
       "    </tr>\n",
       "  </tbody>\n",
       "</table>\n",
       "</div>"
      ],
      "text/plain": [
       "0   inter_arrival_time arrival_time service_start_time waiting_time  \\\n",
       "100            10.1196      432.691            432.691            0   \n",
       "101           0.522912      433.214            433.214            0   \n",
       "102            4.77905      437.993            437.993            0   \n",
       "103          0.0526582      438.045            438.045            0   \n",
       "104            2.84632      440.892            440.892            0   \n",
       "\n",
       "0   service_time completion_time time_in_system agent_one_available  \\\n",
       "100      1.83343         434.524        1.83343             423.879   \n",
       "101      2.41246         435.626        2.41246             435.626   \n",
       "102       2.2699         440.263         2.2699             435.626   \n",
       "103       7.6254         445.671         7.6254             445.671   \n",
       "104      1.64543         442.537        1.64543             445.671   \n",
       "\n",
       "0   agent_two_available  \n",
       "100             434.524  \n",
       "101             434.524  \n",
       "102             440.263  \n",
       "103             440.263  \n",
       "104             442.537  "
      ]
     },
     "execution_count": 42,
     "metadata": {},
     "output_type": "execute_result"
    }
   ],
   "source": [
    "simulation_output_double = pd.DataFrame(wu.run_simulation_double(average_arrival_time, \n",
    "                                                        average_service_time, \n",
    "                                                        time_period, \n",
    "                                                        number_of_customer_simulated,\n",
    "                                                        warm_up_phase_duration,\n",
    "                                                        agent_two_start_time = 0)).T\n",
    "simulation_output_double.columns = simulation_output_double.iloc[0]\n",
    "simulation_output_double = simulation_output_double.iloc[1:]\n",
    "simulation_output_double.head()"
   ]
  },
  {
   "cell_type": "markdown",
   "metadata": {},
   "source": [
    "### Analyze and Display the Result"
   ]
  },
  {
   "cell_type": "code",
   "execution_count": 43,
   "metadata": {},
   "outputs": [],
   "source": [
    "def probability_of_waiting(waiting_times, number_of_minutes):\n",
    "    simulation_count = waiting_times.count()\n",
    "    wait_time_count = waiting_times[waiting_times>number_of_minutes].count()\n",
    "    probability_of_waiting = wait_time_count/simulation_count\n",
    "    return probability_of_waiting"
   ]
  },
  {
   "cell_type": "code",
   "execution_count": 44,
   "metadata": {},
   "outputs": [
    {
     "name": "stdout",
     "output_type": "stream",
     "text": [
      "The mean waiting time equals 0.56\n",
      "The max waiting time equals 11.14\n",
      "The total waiting time equals 501.95\n",
      "The total simulation duration equals 3,306.58\n",
      "The total service time equals 2,809.62\n",
      "The average number of customers in the queue equals 0.15\n",
      "The quality agent utilization equals 0.85\n",
      "The probability of having to wait equals 25.22%\n",
      "The probability of having to wait over one minute equals 16.89%\n"
     ]
    },
    {
     "data": {
      "text/plain": [
       "<matplotlib.axes._subplots.AxesSubplot at 0x12299a550>"
      ]
     },
     "execution_count": 44,
     "metadata": {},
     "output_type": "execute_result"
    },
    {
     "data": {
      "image/png": "[encoded data removed]",
      "text/plain": [
       "<Figure size 1080x360 with 1 Axes>"
      ]
     },
     "metadata": {
      "needs_background": "light"
     },
     "output_type": "display_data"
    }
   ],
   "source": [
    "# Find the waiting_times we just simulated, find their min and max\n",
    "waiting_times = simulation_output_double[\"waiting_time\"]\n",
    "waiting_time_mean = waiting_times.mean()\n",
    "waiting_time_max = waiting_times.max()\n",
    "\n",
    "# Calculate the sum of all the waiting time\n",
    "total_waiting_time = waiting_times.sum()\n",
    "\n",
    "# Calculate total time\n",
    "total_simulation_time = simulation_output_double[\"completion_time\"].iloc[-1] - simulation_output_double[\"completion_time\"].iloc[0]\n",
    "\n",
    "# Calculate total service time\n",
    "total_service_time = simulation_output_double[\"service_time\"].sum()\n",
    "\n",
    "# Calculate every's average waiting time\n",
    "average_in_queue = total_waiting_time / total_simulation_time\n",
    "\n",
    "# Calculate the utilization rate\n",
    "quality_agent_utilization = total_service_time/total_simulation_time\n",
    "\n",
    "# Number of cumtomer who waits longer than one minute\n",
    "number_of_customer_waiting_over_one_minute = simulation_output_double[\"waiting_time\"][simulation_output_double[\"waiting_time\"]>1].count()\n",
    "\n",
    "# Calculate the probability of customer waits\n",
    "waiting_probability = probability_of_waiting(waiting_times,0)\n",
    "\n",
    "# Calculate the probability of customer waits longer than 1 minute\n",
    "probability_of_waiting_over_one_minute = probability_of_waiting(waiting_times,1)\n",
    "print(\"The mean waiting time equals \" + '{:,.2f}'.format(waiting_time_mean))\n",
    "print(\"The max waiting time equals \" + '{:,.2f}'.format(waiting_time_max))\n",
    "print(\"The total waiting time equals \" + '{:,.2f}'.format(total_waiting_time))\n",
    "print(\"The total simulation duration equals \" + '{:,.2f}'.format(total_simulation_time))\n",
    "print(\"The total service time equals \" + '{:,.2f}'.format(total_service_time))\n",
    "print(\"The average number of customers in the queue equals \" + '{:,.2f}'.format(average_in_queue))\n",
    "print(\"The quality agent utilization equals \" + '{:,.2f}'.format(quality_agent_utilization))\n",
    "print(\"The probability of having to wait equals \" + \"{:.2%}\".format(waiting_probability))\n",
    "print(\"The probability of having to wait over one minute equals \" + \"{:.2%}\".format(probability_of_waiting_over_one_minute))\n",
    "simulation_output_double[\"waiting_time\"].plot.hist(grid = False, bins=30, color='green', zorder=2, rwidth=0.9, figsize=(15,5))\n",
    "\n"
   ]
  },
  {
   "cell_type": "markdown",
   "metadata": {},
   "source": [
    "<br><br>"
   ]
  },
  {
   "cell_type": "markdown",
   "metadata": {},
   "source": [
    "# Triple Agents Model (3 agents)"
   ]
  },
  {
   "cell_type": "markdown",
   "metadata": {},
   "source": [
    "### Simulation Configuration Settings\n",
    "The next cell enables you to set all relevant simulation configuration parameters <br>\n",
    "The base case for this simulation is given below\n",
    " - Average (poisson) interarrival time: 3.75 (minutes)\n",
    " - Average (exponential) service time: 3 (minutes)\n",
    " - Time period: 1 (minute)\n",
    " - Number of customers (simulations): 1,000\n",
    " - Warm up phase duration (in units of number of simulations): 100\n",
    " - Agent two availability time = 0"
   ]
  },
  {
   "cell_type": "code",
   "execution_count": 45,
   "metadata": {},
   "outputs": [],
   "source": [
    "average_arrival_time = 3.75\n",
    "average_service_time = 3\n",
    "number_of_customer_simulated = 1000\n",
    "warm_up_phase_duration = 100\n",
    "agent_tri_three_availability_time = 0\n",
    "time_period = 1"
   ]
  },
  {
   "cell_type": "markdown",
   "metadata": {},
   "source": [
    "### Running a Simulation \n",
    "In the cell below we pass all the required parameters into the run_simulation_triple method which stages and runs the entire simulation and outputs all the simulated profits in a Python dictionary. This dictionary is wrapped into a Pandas Series object and transposed (switch columns and rows). The column headers, which reside on the first row, are assigned to be Dataframe headers. Finally, the first row, that contains the headers, is not displayed.<br>\n",
    "The first 100 simulation instances after the warm up period ends are displayed."
   ]
  },
  {
   "cell_type": "code",
   "execution_count": 46,
   "metadata": {},
   "outputs": [
    {
     "data": {
      "text/html": [
       "<div>\n",
       "<style scoped>\n",
       "    .dataframe tbody tr th:only-of-type {\n",
       "        vertical-align: middle;\n",
       "    }\n",
       "\n",
       "    .dataframe tbody tr th {\n",
       "        vertical-align: top;\n",
       "    }\n",
       "\n",
       "    .dataframe thead th {\n",
       "        text-align: right;\n",
       "    }\n",
       "</style>\n",
       "<table border=\"1\" class=\"dataframe\">\n",
       "  <thead>\n",
       "    <tr style=\"text-align: right;\">\n",
       "      <th></th>\n",
       "      <th>inter_arrival_time</th>\n",
       "      <th>arrival_time</th>\n",
       "      <th>service_start_time</th>\n",
       "      <th>waiting_time</th>\n",
       "      <th>service_time</th>\n",
       "      <th>completion_time</th>\n",
       "      <th>time_in_system</th>\n",
       "      <th>agent_tri_one_available</th>\n",
       "      <th>agent_tri_two_available</th>\n",
       "      <th>agent_tri_three_available</th>\n",
       "    </tr>\n",
       "  </thead>\n",
       "  <tbody>\n",
       "    <tr>\n",
       "      <th>100</th>\n",
       "      <td>4.66916</td>\n",
       "      <td>377.575</td>\n",
       "      <td>377.575</td>\n",
       "      <td>0</td>\n",
       "      <td>0.0600584</td>\n",
       "      <td>377.635</td>\n",
       "      <td>0.0600584</td>\n",
       "      <td>375.277</td>\n",
       "      <td>377.635</td>\n",
       "      <td>374.62</td>\n",
       "    </tr>\n",
       "    <tr>\n",
       "      <th>101</th>\n",
       "      <td>1.08966</td>\n",
       "      <td>378.664</td>\n",
       "      <td>378.664</td>\n",
       "      <td>0</td>\n",
       "      <td>1.98664</td>\n",
       "      <td>380.651</td>\n",
       "      <td>1.98664</td>\n",
       "      <td>375.277</td>\n",
       "      <td>377.635</td>\n",
       "      <td>380.651</td>\n",
       "    </tr>\n",
       "    <tr>\n",
       "      <th>102</th>\n",
       "      <td>10.1516</td>\n",
       "      <td>388.816</td>\n",
       "      <td>388.816</td>\n",
       "      <td>0</td>\n",
       "      <td>1.00174</td>\n",
       "      <td>389.818</td>\n",
       "      <td>1.00174</td>\n",
       "      <td>389.818</td>\n",
       "      <td>377.635</td>\n",
       "      <td>380.651</td>\n",
       "    </tr>\n",
       "    <tr>\n",
       "      <th>103</th>\n",
       "      <td>1.2077</td>\n",
       "      <td>390.024</td>\n",
       "      <td>390.024</td>\n",
       "      <td>0</td>\n",
       "      <td>7.03119</td>\n",
       "      <td>397.055</td>\n",
       "      <td>7.03119</td>\n",
       "      <td>389.818</td>\n",
       "      <td>397.055</td>\n",
       "      <td>380.651</td>\n",
       "    </tr>\n",
       "    <tr>\n",
       "      <th>104</th>\n",
       "      <td>1.69232</td>\n",
       "      <td>391.716</td>\n",
       "      <td>391.716</td>\n",
       "      <td>0</td>\n",
       "      <td>1.84832</td>\n",
       "      <td>393.564</td>\n",
       "      <td>1.84832</td>\n",
       "      <td>389.818</td>\n",
       "      <td>397.055</td>\n",
       "      <td>393.564</td>\n",
       "    </tr>\n",
       "  </tbody>\n",
       "</table>\n",
       "</div>"
      ],
      "text/plain": [
       "0   inter_arrival_time arrival_time service_start_time waiting_time  \\\n",
       "100            4.66916      377.575            377.575            0   \n",
       "101            1.08966      378.664            378.664            0   \n",
       "102            10.1516      388.816            388.816            0   \n",
       "103             1.2077      390.024            390.024            0   \n",
       "104            1.69232      391.716            391.716            0   \n",
       "\n",
       "0   service_time completion_time time_in_system agent_tri_one_available  \\\n",
       "100    0.0600584         377.635      0.0600584                 375.277   \n",
       "101      1.98664         380.651        1.98664                 375.277   \n",
       "102      1.00174         389.818        1.00174                 389.818   \n",
       "103      7.03119         397.055        7.03119                 389.818   \n",
       "104      1.84832         393.564        1.84832                 389.818   \n",
       "\n",
       "0   agent_tri_two_available agent_tri_three_available  \n",
       "100                 377.635                    374.62  \n",
       "101                 377.635                   380.651  \n",
       "102                 377.635                   380.651  \n",
       "103                 397.055                   380.651  \n",
       "104                 397.055                   393.564  "
      ]
     },
     "execution_count": 46,
     "metadata": {},
     "output_type": "execute_result"
    }
   ],
   "source": [
    "simulation_output_triple = pd.DataFrame(wu.run_simulation_triple(average_arrival_time, \n",
    "                                                        average_service_time, \n",
    "                                                        time_period, \n",
    "                                                        number_of_customer_simulated,\n",
    "                                                        warm_up_phase_duration,\n",
    "                                                        agent_tri_three_start_time = 0)).T\n",
    "simulation_output_triple.columns = simulation_output_triple.iloc[0]\n",
    "simulation_output_triple = simulation_output_triple.iloc[1:]\n",
    "simulation_output_triple.head()"
   ]
  },
  {
   "cell_type": "markdown",
   "metadata": {},
   "source": [
    "### Analyze and Display the Result"
   ]
  },
  {
   "cell_type": "code",
   "execution_count": 47,
   "metadata": {},
   "outputs": [],
   "source": [
    "def probability_of_waiting(waiting_times, number_of_minutes):\n",
    "    simulation_count = waiting_times.count()\n",
    "    wait_time_count = waiting_times[waiting_times>number_of_minutes].count()\n",
    "    probability_of_waiting = wait_time_count/simulation_count\n",
    "    #print(wait_time_count)\n",
    "    return probability_of_waiting"
   ]
  },
  {
   "cell_type": "code",
   "execution_count": 48,
   "metadata": {},
   "outputs": [
    {
     "name": "stdout",
     "output_type": "stream",
     "text": [
      "The mean waiting time equals 0.06\n",
      "The max waiting time equals 3.33\n",
      "The total waiting time equals 51.59\n",
      "The total simulation duration equals 3,508.47\n",
      "The total service time equals 2,721.95\n",
      "The average number of customers in the queue equals 0.01\n",
      "The quality agent utilization equals 0.78\n",
      "The probability of having to wait equals 5.00%\n",
      "The probability of having to wait over one minute equals 2.11%\n"
     ]
    },
    {
     "data": {
      "text/plain": [
       "<matplotlib.axes._subplots.AxesSubplot at 0x122ce11d0>"
      ]
     },
     "execution_count": 48,
     "metadata": {},
     "output_type": "execute_result"
    },
    {
     "data": {
      "image/png": "[encoded data removed]",
      "text/plain": [
       "<Figure size 1080x360 with 1 Axes>"
      ]
     },
     "metadata": {
      "needs_background": "light"
     },
     "output_type": "display_data"
    }
   ],
   "source": [
    "# Find the waiting_times we just simulated, find their min and max\n",
    "waiting_times = simulation_output_triple[\"waiting_time\"]\n",
    "waiting_time_mean = waiting_times.mean()\n",
    "waiting_time_max = waiting_times.max()\n",
    "\n",
    "# Calculate the sum of all the waiting time\n",
    "total_waiting_time = waiting_times.sum()\n",
    "\n",
    "# Calculate total time\n",
    "total_simulation_time = simulation_output_triple[\"completion_time\"].iloc[-1] - simulation_output_triple[\"completion_time\"].iloc[0]\n",
    "\n",
    "# Calculate total service time\n",
    "total_service_time = simulation_output_triple[\"service_time\"].sum()\n",
    "\n",
    "# Calculate every's average waiting time\n",
    "average_in_queue = total_waiting_time / total_simulation_time\n",
    "\n",
    "# Calculate the utilization rate\n",
    "quality_agent_utilization = total_service_time/total_simulation_time\n",
    "\n",
    "# Number of cumtomer who waits longer than one minute\n",
    "number_of_customer_waiting_over_one_minute = simulation_output_triple[\"waiting_time\"][simulation_output_triple[\"waiting_time\"]>1].count()\n",
    "\n",
    "# Calculate the probability of customer waits\n",
    "waiting_probability = probability_of_waiting(waiting_times,0)\n",
    "\n",
    "# Calculate the probability of customer waits longer than 1 minute\n",
    "probability_of_waiting_over_one_minute = probability_of_waiting(waiting_times,1)\n",
    "print(\"The mean waiting time equals \" + '{:,.2f}'.format(waiting_time_mean))\n",
    "print(\"The max waiting time equals \" + '{:,.2f}'.format(waiting_time_max))\n",
    "print(\"The total waiting time equals \" + '{:,.2f}'.format(total_waiting_time))\n",
    "print(\"The total simulation duration equals \" + '{:,.2f}'.format(total_simulation_time))\n",
    "print(\"The total service time equals \" + '{:,.2f}'.format(total_service_time))\n",
    "print(\"The average number of customers in the queue equals \" + '{:,.2f}'.format(average_in_queue))\n",
    "print(\"The quality agent utilization equals \" + '{:,.2f}'.format(quality_agent_utilization))\n",
    "print(\"The probability of having to wait equals \" + \"{:.2%}\".format(waiting_probability))\n",
    "print(\"The probability of having to wait over one minute equals \" + \"{:.2%}\".format(probability_of_waiting_over_one_minute))\n",
    "simulation_output_triple[\"waiting_time\"].plot.hist(grid = False, bins=30, color='green', zorder=2, rwidth=0.9, figsize=(15,5))\n"
   ]
  },
  {
   "cell_type": "code",
   "execution_count": null,
   "metadata": {},
   "outputs": [],
   "source": []
  },
  {
   "cell_type": "code",
   "execution_count": null,
   "metadata": {},
   "outputs": [],
   "source": []
  }
 ],
 "metadata": {
  "kernelspec": {
   "display_name": "Python 3",
   "language": "python",
   "name": "python3"
  },
  "language_info": {
   "codemirror_mode": {
    "name": "ipython",
    "version": 3
   },
   "file_extension": ".py",
   "mimetype": "text/x-python",
   "name": "python",
   "nbconvert_exporter": "python",
   "pygments_lexer": "ipython3",
   "version": "3.7.3"
  }
 },
 "nbformat": 4,
 "nbformat_minor": 2
}
